{
  "nbformat": 4,
  "nbformat_minor": 0,
  "metadata": {
    "colab": {
      "provenance": [],
      "toc_visible": true,
      "mount_file_id": "1x59Ab2r057_46KDjHQ_MG_kEa_HZLKxm",
      "authorship_tag": "ABX9TyPzeGfGAbEZc5QA0HrvlVdP",
      "include_colab_link": true
    },
    "kernelspec": {
      "name": "python3",
      "display_name": "Python 3"
    },
    "language_info": {
      "name": "python"
    },
    "accelerator": "GPU",
    "gpuClass": "standard"
  },
  "cells": [
    {
      "cell_type": "markdown",
      "metadata": {
        "id": "view-in-github",
        "colab_type": "text"
      },
      "source": [
        "<a href=\"https://colab.research.google.com/github/Wiccear/yolov5/blob/main/yolov5.ipynb\" target=\"_parent\"><img src=\"https://colab.research.google.com/assets/colab-badge.svg\" alt=\"Open In Colab\"/></a>"
      ]
    },
    {
      "cell_type": "code",
      "execution_count": null,
      "metadata": {
        "id": "-lM0E0NKQE1h",
        "colab": {
          "base_uri": "https://localhost:8080/"
        },
        "outputId": "7f3a0f25-85b2-4be2-fcbd-73d48ea05b74"
      },
      "outputs": [
        {
          "output_type": "stream",
          "name": "stdout",
          "text": [
            "python3: can't open file 'detect.py': [Errno 2] No such file or directory\n"
          ]
        }
      ],
      "source": [
        "#检测图片\n",
        "!python detect.py"
      ]
    },
    {
      "cell_type": "code",
      "source": [
        "#检测视频\n",
        "!python detect.py --source data/images/F1.mp4\n"
      ],
      "metadata": {
        "id": "mrIZJ_VTUGvr"
      },
      "execution_count": null,
      "outputs": []
    },
    {
      "cell_type": "code",
      "source": [
        "#挂载云端硬盘\n",
        "from google.colab import drive\n",
        "drive.mount('/content/drive')"
      ],
      "metadata": {
        "colab": {
          "base_uri": "https://localhost:8080/"
        },
        "id": "4OTnBkmiRwzu",
        "outputId": "aa07ca13-a97e-4c10-8ce2-0ff4e04291bb"
      },
      "execution_count": null,
      "outputs": [
        {
          "output_type": "stream",
          "name": "stdout",
          "text": [
            "Drive already mounted at /content/drive; to attempt to forcibly remount, call drive.mount(\"/content/drive\", force_remount=True).\n"
          ]
        }
      ]
    },
    {
      "cell_type": "code",
      "source": [
        "\n",
        "%cd /content/drive/MyDrive/Colab\n"
      ],
      "metadata": {
        "colab": {
          "base_uri": "https://localhost:8080/"
        },
        "id": "fyBbDtt3Nayo",
        "outputId": "8956747f-9102-424d-ef75-0f926ffe2b8c"
      },
      "execution_count": null,
      "outputs": [
        {
          "output_type": "stream",
          "name": "stdout",
          "text": [
            "/content/drive/MyDrive/Colab\n"
          ]
        }
      ]
    },
    {
      "cell_type": "code",
      "source": [
        "cd yolov5"
      ],
      "metadata": {
        "colab": {
          "base_uri": "https://localhost:8080/"
        },
        "id": "NsycTXD5OGze",
        "outputId": "44264c42-454a-4f38-9480-8ee81393d211"
      },
      "execution_count": null,
      "outputs": [
        {
          "output_type": "stream",
          "name": "stdout",
          "text": [
            "/content/drive/MyDrive/Colab/yolov5\n"
          ]
        }
      ]
    },
    {
      "cell_type": "code",
      "source": [
        "\n",
        "!python makeTxt.py"
      ],
      "metadata": {
        "id": "maWL8X_Qq1Bo"
      },
      "execution_count": null,
      "outputs": []
    },
    {
      "cell_type": "code",
      "source": [
        "\n",
        "!python Vol_label.py"
      ],
      "metadata": {
        "id": "sHw2_G_0t-Mz"
      },
      "execution_count": null,
      "outputs": []
    },
    {
      "cell_type": "code",
      "source": [
        "\n",
        "!python train.py"
      ],
      "metadata": {
        "id": "eBZ91mhhvQSQ"
      },
      "execution_count": null,
      "outputs": []
    },
    {
      "cell_type": "code",
      "source": [
        "\n",
        "!python detect.py"
      ],
      "metadata": {
        "id": "fiTVOTGUUwvr"
      },
      "execution_count": null,
      "outputs": []
    }
  ]
}